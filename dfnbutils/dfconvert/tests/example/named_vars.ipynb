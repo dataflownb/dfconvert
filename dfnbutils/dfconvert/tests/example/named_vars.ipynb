{
 "cells": [
  {
   "cell_type": "code",
   "execution_count": 16605475,
   "metadata": {
    "auto_update": false,
    "cell_status": "saved-success-first-load",
    "force_cached": false
   },
   "outputs": [
    {
     "data": {
      "text/plain": [
       "106"
      ]
     },
     "execution_count": 16605475,
     "metadata": {},
     "output_type": "execute_result"
    }
   ],
   "source": [
    "d+e"
   ]
  },
  {
   "cell_type": "code",
   "execution_count": 15342440,
   "metadata": {
    "auto_update": false,
    "cell_status": "saved-success-first-load",
    "force_cached": false
   },
   "outputs": [
    {
     "data": {
      "text/plain": [
       "10"
      ]
     },
     "execution_count": 15342440,
     "metadata": {
      "output_tag": "a"
     },
     "output_type": "execute_result"
    }
   ],
   "source": [
    "a = 10\n",
    "a"
   ]
  },
  {
   "cell_type": "code",
   "execution_count": 11276017,
   "metadata": {
    "auto_update": false,
    "cell_status": "saved-success-first-load",
    "force_cached": false
   },
   "outputs": [
    {
     "data": {
      "text/plain": [
       "20"
      ]
     },
     "execution_count": 11276017,
     "metadata": {
      "output_tag": "b"
     },
     "output_type": "execute_result"
    },
    {
     "data": {
      "text/plain": [
       "30"
      ]
     },
     "execution_count": 11276017,
     "metadata": {
      "output_tag": "c"
     },
     "output_type": "execute_result"
    }
   ],
   "source": [
    "b,c = a+10,30\n",
    "b,c"
   ]
  },
  {
   "cell_type": "code",
   "execution_count": 14460169,
   "metadata": {
    "auto_update": false,
    "cell_status": "saved-success-first-load",
    "force_cached": false
   },
   "outputs": [
    {
     "data": {
      "text/plain": [
       "60"
      ]
     },
     "execution_count": 14460169,
     "metadata": {
      "output_tag": "d"
     },
     "output_type": "execute_result"
    }
   ],
   "source": [
    "d = b+40\n",
    "d"
   ]
  },
  {
   "cell_type": "code",
   "execution_count": 13952954,
   "metadata": {
    "auto_update": false,
    "cell_status": "saved-success-first-load",
    "force_cached": false
   },
   "outputs": [
    {
     "data": {
      "text/plain": [
       "46"
      ]
     },
     "execution_count": 13952954,
     "metadata": {
      "output_tag": "e"
     },
     "output_type": "execute_result"
    }
   ],
   "source": [
    "e = c+16\n",
    "e"
   ]
  },
  {
   "cell_type": "code",
   "execution_count": 13711295,
   "metadata": {
    "auto_update": false,
    "cell_status": "new",
    "force_cached": false
   },
   "outputs": [],
   "source": []
  }
 ],
 "metadata": {
  "hl_list": [],
  "kernelspec": {
   "display_name": "DFPython 3",
   "language": "python",
   "name": "dfpython3"
  },
  "language_info": {
   "codemirror_mode": {
    "name": "ipython",
    "version": 3
   },
   "file_extension": ".py",
   "mimetype": "text/x-python",
   "name": "python",
   "nbconvert_exporter": "python",
   "pygments_lexer": "ipython3",
   "version": "3.7.0"
  }
 },
 "nbformat": 4,
 "nbformat_minor": 2
}
