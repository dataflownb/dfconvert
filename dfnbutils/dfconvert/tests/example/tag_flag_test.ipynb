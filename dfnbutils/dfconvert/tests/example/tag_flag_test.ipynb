{
 "cells": [
  {
   "cell_type": "code",
   "execution_count": 15344642,
   "metadata": {
    "auto_update": false,
    "cell_status": "saved-success-first-load",
    "force_cached": false
   },
   "outputs": [
    {
     "data": {
      "text/plain": [
       "3"
      ]
     },
     "execution_count": 15344642,
     "metadata": {
      "output_tag": "a"
     },
     "output_type": "execute_result"
    },
    {
     "data": {
      "text/plain": [
       "4"
      ]
     },
     "execution_count": 15344642,
     "metadata": {
      "output_tag": "ea24021"
     },
     "output_type": "execute_result"
    }
   ],
   "source": [
    "a = 3\n",
    "a,4"
   ]
  },
  {
   "cell_type": "code",
   "execution_count": 13074223,
   "metadata": {
    "auto_update": false,
    "cell_status": "saved-success-first-load",
    "force_cached": false
   },
   "outputs": [
    {
     "data": {
      "text/plain": [
       "4"
      ]
     },
     "execution_count": 13074223,
     "metadata": {},
     "output_type": "execute_result"
    }
   ],
   "source": [
    "Out[ea2402][1]"
   ]
  },
  {
   "cell_type": "code",
   "execution_count": 11137340,
   "metadata": {
    "auto_update": false,
    "cell_status": "new",
    "force_cached": false
   },
   "outputs": [],
   "source": []
  }
 ],
 "metadata": {
  "hl_list": [],
  "kernelspec": {
   "display_name": "DFPython 3",
   "language": "python",
   "name": "dfpython3"
  },
  "language_info": {
   "codemirror_mode": {
    "name": "ipython",
    "version": 3
   },
   "file_extension": ".py",
   "mimetype": "text/x-python",
   "name": "python",
   "nbconvert_exporter": "python",
   "pygments_lexer": "ipython3",
   "version": "3.7.0"
  }
 },
 "nbformat": 4,
 "nbformat_minor": 2
}
