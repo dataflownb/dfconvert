{
 "cells": [
  {
   "cell_type": "code",
   "execution_count": 11996666,
   "metadata": {
    "auto_update": false,
    "cell_status": "saved-success-first-load",
    "force_cached": false
   },
   "outputs": [
    {
     "data": {
      "text/plain": [
       "110"
      ]
     },
     "execution_count": 11996666,
     "metadata": {
      "output_tag": "d"
     },
     "output_type": "execute_result"
    }
   ],
   "source": [
    "d = c + 50\n",
    "d"
   ]
  },
  {
   "cell_type": "code",
   "execution_count": 13816700,
   "metadata": {
    "auto_update": false,
    "cell_status": "saved-success-first-load",
    "force_cached": false
   },
   "outputs": [
    {
     "data": {
      "text/plain": [
       "10"
      ]
     },
     "execution_count": 13816700,
     "metadata": {
      "output_tag": "a"
     },
     "output_type": "execute_result"
    }
   ],
   "source": [
    "a = 10\n",
    "a"
   ]
  },
  {
   "cell_type": "code",
   "execution_count": 12985992,
   "metadata": {
    "auto_update": false,
    "cell_status": "saved-success-first-load",
    "force_cached": false
   },
   "outputs": [
    {
     "data": {
      "text/plain": [
       "60"
      ]
     },
     "execution_count": 12985992,
     "metadata": {
      "output_tag": "c"
     },
     "output_type": "execute_result"
    }
   ],
   "source": [
    "c = b +40\n",
    "c"
   ]
  },
  {
   "cell_type": "code",
   "execution_count": 14985709,
   "metadata": {
    "auto_update": false,
    "cell_status": "saved-success-first-load",
    "force_cached": false
   },
   "outputs": [
    {
     "data": {
      "text/plain": [
       "20"
      ]
     },
     "execution_count": 14985709,
     "metadata": {
      "output_tag": "b"
     },
     "output_type": "execute_result"
    }
   ],
   "source": [
    "b = a+10\n",
    "b"
   ]
  },
  {
   "cell_type": "code",
   "execution_count": 12374866,
   "metadata": {
    "auto_update": false,
    "cell_status": "new",
    "force_cached": false
   },
   "outputs": [],
   "source": []
  }
 ],
 "metadata": {
  "hl_list": [],
  "kernelspec": {
   "display_name": "DFPython 3",
   "language": "python",
   "name": "dfpython3"
  },
  "language_info": {
   "codemirror_mode": {
    "name": "ipython",
    "version": 3
   },
   "file_extension": ".py",
   "mimetype": "text/x-python",
   "name": "python",
   "nbconvert_exporter": "python",
   "pygments_lexer": "ipython3",
   "version": "3.7.0"
  }
 },
 "nbformat": 4,
 "nbformat_minor": 2
}
