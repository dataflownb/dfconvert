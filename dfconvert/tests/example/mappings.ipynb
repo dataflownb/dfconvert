{
 "cells": [
  {
   "cell_type": "code",
   "execution_count": 11226684,
   "metadata": {
    "auto_update": false,
    "cell_status": "saved-success",
    "force_cached": false
   },
   "outputs": [
    {
     "data": {
      "text/plain": [
       "110"
      ]
     },
     "execution_count": 11226684,
     "metadata": {},
     "output_type": "execute_result"
    }
   ],
   "source": [
    "Out[fac3f8][0]+10"
   ]
  },
  {
   "cell_type": "code",
   "execution_count": 11180815,
   "metadata": {
    "auto_update": false,
    "cell_status": "saved-success",
    "force_cached": false
   },
   "outputs": [
    {
     "data": {
      "text/plain": [
       "150"
      ]
     },
     "execution_count": 11180815,
     "metadata": {},
     "output_type": "execute_result"
    }
   ],
   "source": [
    "Out[b5bfeb]+40"
   ]
  },
  {
   "cell_type": "code",
   "execution_count": 15569309,
   "metadata": {
    "auto_update": false,
    "cell_status": "edited-saved-success",
    "force_cached": false
   },
   "outputs": [
    {
     "data": {
      "text/plain": [
       "100"
      ]
     },
     "execution_count": 15569309,
     "metadata": {},
     "output_type": "execute_result"
    }
   ],
   "source": [
    "100"
   ]
  },
  {
   "cell_type": "code",
   "execution_count": 16434168,
   "metadata": {
    "auto_update": false,
    "cell_status": "saved-success",
    "force_cached": false
   },
   "outputs": [
    {
     "data": {
      "text/plain": [
       "(100, 130)"
      ]
     },
     "execution_count": 16434168,
     "metadata": {},
     "output_type": "execute_result"
    }
   ],
   "source": [
    "b = a+30\n",
    "a,b"
   ]
  },
  {
   "cell_type": "code",
   "execution_count": 10534088,
   "metadata": {
    "auto_update": false,
    "cell_status": "saved-success",
    "force_cached": false
   },
   "outputs": [
    {
     "data": {
      "text/plain": [
       "100"
      ]
     },
     "execution_count": 10534088,
     "metadata": {
      "output_tag": "a"
     },
     "output_type": "execute_result"
    }
   ],
   "source": [
    "a = Out[ed919d]"
   ]
  },
  {
   "cell_type": "code",
   "execution_count": 11911147,
   "metadata": {
    "auto_update": false,
    "cell_status": "saved-success",
    "force_cached": false
   },
   "outputs": [
    {
     "data": {
      "text/plain": [
       "110"
      ]
     },
     "execution_count": 11911147,
     "metadata": {},
     "output_type": "execute_result"
    }
   ],
   "source": [
    "Out[ed919d]+10"
   ]
  },
  {
   "cell_type": "code",
   "execution_count": 14422364,
   "metadata": {
    "auto_update": false,
    "cell_status": "saved-success-first-load",
    "force_cached": false
   },
   "outputs": [],
   "source": []
  }
 ],
 "metadata": {
  "hl_list": [],
  "kernelspec": {
   "display_name": "DFPython 3",
   "language": "python",
   "name": "dfpython3"
  },
  "language_info": {
   "codemirror_mode": {
    "name": "ipython",
    "version": 3
   },
   "file_extension": ".py",
   "mimetype": "text/x-python",
   "name": "python",
   "nbconvert_exporter": "python",
   "pygments_lexer": "ipython3",
   "version": "3.7.0"
  }
 },
 "nbformat": 4,
 "nbformat_minor": 2
}
